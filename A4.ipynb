{
 "cells": [
  {
   "cell_type": "markdown",
   "id": "9c2039e4-bb40-4b7e-9725-260a8ebf5026",
   "metadata": {
    "tags": []
   },
   "source": [
    "# Preliminary Project Proposal\n",
    "### Motivation"
   ]
  },
  {
   "cell_type": "markdown",
   "id": "196247e9-b20e-4840-aa18-e5342b4064da",
   "metadata": {},
   "source": [
    "Abortion has been a hot button issue in the United States for decades. In the historic Roe v. Wade case in 1973, the U.S. Supreme Court ruled that a woman's right to choose to have an abortion is protected by the Due Process Clause of the 14th Amdendment. In very recent news in May 2022, a draft of a Supreme Court opinion that would overturn the Roe v. Wade decision was leaked to the media. Some states have already criminalized abortion, and some policy makers are moving to criminalize abortion federally across the United States. This is a human rights issue, and specifically a women's rights issue of bodily autonomy. \n",
    "\n",
    "Through research, I hope to better understand individuals' perspectives on abortion in the United States and whether any differences exist along gender lines. I also hope to see if the actions of policy makers reflect the opinions of the general public. In addition, because abortion legislation affects women directly and men indirectly, and men outnumber women in policy-making positions, I'm interested to see the gender distribution of anti-abortion legislators. I hope to determine whether policy makers are adequately representing the wishes of the general public on the issue of abortion. This research aims to determine whether our democracy is truly representative on this issue, and whether differences in opinion along gender lines play a role in related legislation.\n",
    "\n",
    "When I presenting my intial ideas about this research topic to my peers, they encouraged me to look closely at those with the power to make policy decisions and their gender distribution."
   ]
  },
  {
   "cell_type": "markdown",
   "id": "966d93c0-0a13-4e32-b16a-73f23147baf6",
   "metadata": {},
   "source": [
    "### Data"
   ]
  },
  {
   "cell_type": "markdown",
   "id": "cc8db358-bf4c-48b8-8765-eac36f9f86b3",
   "metadata": {},
   "source": [
    "**Anti-Abortion Policymaking and Women's Representation**\n",
    "https://dataverse.harvard.edu/dataset.xhtml?persistentId=doi:10.7910/DVN/TQXAOU\n",
    "\n",
    "This dataset includes data for legislators in 21 state houses from 1997-2012. Legislators' gender, party, ideology, state-level party competition, and abortion bill sponsorship are included.\n",
    "\n",
    "This data will enable the analysis of these legislators' voting habits on abortion bills related to their gender and other factors. From this, I can estimate the gender distribution of anti-abortion policy makers.\n",
    "\n",
    "The dataset is public domain, allowing anyone to copy, modify, distribute, and perform work on it without permission: https://creativecommons.org/publicdomain/zero/1.0/\n",
    "\n",
    "Because legislative decisions are a matter of public record, using this data should be ethical.\n",
    "\n",
    "Beth Reingold, Rebecca Kreitzer, Tracy Osborn, Michele Swers, 2020, \"Replication Data for: Anti-abortion Policymaking and Women's Representation\", https://doi.org/10.7910/DVN/TQXAOU, Harvard Dataverse, V1, UNF:6:zgqJ10J0I/h2ZrIhvqGCsQ== [fileUNF]"
   ]
  },
  {
   "cell_type": "markdown",
   "id": "7a6c6e6e-354a-4b3f-adb9-1c172f4d0b8a",
   "metadata": {},
   "source": [
    "**Safe, Legal, Rare... and Early: Gender and the Politics of Abortion**\n",
    "https://dataverse.harvard.edu/dataset.xhtml?persistentId=doi:10.7910/DVN/26223\n",
    "\n",
    "This dataset includes analysis and responses from a 2006 Cooperative Congressional Election Study where participants were asked about their opinions on abortion.\n",
    "\n",
    "This data will enable an estimation of the general public's opinions on abortion, and whether any differences exist along gender lines. Connecting this to the dataset about policy makers may reveal whether legislators' actions reflect the public's wishes.\n",
    "\n",
    "The dataset is public domain, allowing anyone to copy, modify, distribute, and perform work on it without permission: https://creativecommons.org/publicdomain/zero/1.0/\n",
    "\n",
    "Data should be anonymous to ensure privacy of respondents for ethical reasons\n",
    "\n",
    "Zigerell, L.J, 2014, \"Replication data for: Safe, Legal, Rare… and Early: Gender and the Politics of Abortion\", https://doi.org/10.7910/DVN/26223, Harvard Dataverse, V1, UNF:5:d1oNzERtnxfA75TYG5RtZg== [fileUNF]"
   ]
  },
  {
   "cell_type": "markdown",
   "id": "92e37e7a-ac43-4aff-a643-9e1f7d7bf8d8",
   "metadata": {
    "tags": []
   },
   "source": [
    "### Unknowns"
   ]
  },
  {
   "cell_type": "markdown",
   "id": "ace0a398-4fb0-4b1c-9e85-eae9f1899b46",
   "metadata": {},
   "source": [
    "The public datasets I have been able to find so far are over ten years old; one includes data from 2006 and the other includes data from 1997-2012. These may not reflect modern opinions on abortion if there has been a dramatic change in the past years.\n",
    "\n",
    "The polarizing and sensitive aspect of the abortion issue may present challenges to completing this research. I could experience friction from fellow students or the course instructors based on their personal beliefs and ethics surrounding the problem space. To mitigate this, I plan to present data and analysis as plainly and professionally as possible and avoid emotional discussions about the ethics of abortion."
   ]
  },
  {
   "cell_type": "markdown",
   "id": "406b8fa8-bd2e-4ac5-9b0d-f24f7278b986",
   "metadata": {},
   "source": [
    "### Research Questions"
   ]
  },
  {
   "cell_type": "markdown",
   "id": "cf9e3984-5bd7-4398-8e6b-0355a894c226",
   "metadata": {},
   "source": [
    "**Research Question 1**\n",
    "\n",
    "Does the proportion of lawmakers who take an anti-abortion stance significantly differ from that proportion of people in the general public?\n",
    "\n",
    "**Hypothesis 1 (H1)**\n",
    "\n",
    "The proportion of anti-abortion lawmakers is significantly different than the proportion of people in the general public who take an anti-abortion stance.\n",
    "\n",
    "**Research Question 2**\n",
    "\n",
    "In the general public, are men more likely to take an anti-abortion stance than women?\n",
    "\n",
    "**Hypothesis 2 (H2)**\n",
    "\n",
    "In the general public, the proportion of men who take an anti-abortion stance is significantly different than that proportion of women.\n",
    "\n",
    "**Research Question 3**\n",
    "\n",
    "Are men in lawmaking positions more likely to take an anti-abortion stance than women in lawmaking positions?\n",
    "\n",
    "**Hypothesis 3 (H3)**\n",
    "\n",
    "The proportion of male lawmakers who take an anti-abortion stance is significantly different than that proportion of female lawmakers."
   ]
  },
  {
   "cell_type": "markdown",
   "id": "df72301e-6f71-4cb4-aae5-aac508f65f90",
   "metadata": {},
   "source": [
    "### Related Work"
   ]
  },
  {
   "cell_type": "markdown",
   "id": "dead50f5-8571-4418-aa7a-7e30b3e0ba6b",
   "metadata": {},
   "source": [
    "**Examining the Absence of a Gender Effect on Abortion Attitudes: Is There Really No Difference?** by Hertel and Russell\n",
    "\n",
    "ABSTRACT:\n",
    "\n",
    ">Earlier research on attitudes toward abortion has found little or no difference between men and women. To the limited extent that there is any gender effect, men are slightly more inclined than women to be prochoice (e.g., Cook, Jelen, and Wilcox 1992). Women, however, have been found to regard the issue as more important (Scott and Schuman 1988). The present study uses General Social Survey data from 1972 through 1994 to further explore gender and attitudes toward abortion. We find that within three marital statuses–single, married, widowed–men are somewhat more supportive of abortion rights but that women consider the issue to be more important and have clearer but not necessarily stronger attitudes than men. When differences in workforce participation are controlled, the sex effect is reversed, with women being more prochoice than men. Although significantly related to abortion attitudes, race, marital status, and religious identity are not relevant to this reversal in the sex effect.\n",
    "\n",
    "UW Library Access: https://alliance-primo.hosted.exlibrisgroup.com/primo-explore/fulldisplay?docid=TN_cdi_proquest_miscellaneous_61614891&context=PC&vid=UW&lang=en_US&search_scope=all&adaptor=primo_central_multiple_fe&tab=default_tab&query=any,contains,Cook%20%20Jelen%20%20and%20Wilcox%201992\n",
    "\n",
    "This article includes a literature review establishing that previous research indicates there is no significant effect of gender on abortion attitudes. Based on General Social Survey data from 1972 to 1994, there is practically no relationship between gender and abortion attitudes.\n",
    "\n",
    "I believe there is still value in checking for an effect of gender on abortion attitudes with more recent data, and my selected dataset for this topic is over ten years newer than the data used by Hertel and Russel. As such, I will continue with my analysis of abortion sentiment along gender lines.\n",
    "\n",
    "**Between two absolutes: Public opinion and the politics of abortion** by Cook et al.\n",
    "\n",
    "UW Library Access: https://alliance-primo.hosted.exlibrisgroup.com/primo-explore/fulldisplay?docid=TN_cdi_proquest_miscellaneous_59619250&context=PC&vid=UW&lang=en_US&search_scope=all&adaptor=primo_central_multiple_fe&tab=default_tab&query=any,contains,Cook%20%20Jelen%20%20and%20Wilcox%201992\n",
    "\n",
    "This book includes an analysis of General Social Survey data through 1991, also reporting that virtually no relationship exists between gender and abortion attitudes. They find that if a limited effect does exist, women are actually slightly less supportive of legal abortion than men (p. 44).\n",
    "\n",
    "My H2 and H3 were originally that men would be significantly more likely to oppose abortion rights than women, whether members of the legislature or general public. I reasoned that since abortion rights are a matter of women's bodily autonomy, more women would support their right to choose, whereas men would be have an easier time opposing abortion on philosophical grounds as it doesn't directly affect their rights. Given the results from this study, I changed my hypotheses to see if a significant difference exists along gender lines in either direction. The data used in the Cook et al. study is now over thirty years old, so I believe it is still valuable to test these hypotheses with more modern data. If any differences exist, it will suggest a change in the gender effects on abortion sentiment from 1991 to today."
   ]
  },
  {
   "cell_type": "markdown",
   "id": "f4fbb25b-7c5a-4331-99f8-11e0bf4a8b1c",
   "metadata": {},
   "source": [
    "### Methodology"
   ]
  },
  {
   "cell_type": "markdown",
   "id": "ef74784d-c878-45f5-9bc4-85195c271d5a",
   "metadata": {},
   "source": [
    "**H1**\n",
    "\n",
    "To test H1, I will find the proportion of people in the Cooperative Election Study dataset who take an anti-abortion stance. This will be used to estimate the proportion of individuals in the general public who are against women's rights to an abortion. I will then find the proportion of legislators in the policymaking dataset who take an anti-abortion stance. These two proportions will be compared using a Z-test to see if there is a statistically significant difference between them. This will reveal whether the proportion of anti-abortion lawmakers is significantly greater than the proportion of anti-abortion people in the greater population.\n",
    "\n",
    "The significance level of these findings will be presented alongside a stacked bar chart to display the proportions of anti-abortion individuals in the two groups: the general public and the legislators. With this, we will be able to compare the proportions visually.\n",
    "\n",
    "**H2**\n",
    "\n",
    "To test H2, I will analyze the Cooperative Election Study dataset to find the proportion of men who take an anti-abortion stance and the proportion of women who take an anti-abortion stance. This will estimate the proportion of men and women in the general public who are against abortion rights. These proportions will be compared using a Z-test to determine if there is a statistically significant difference between them. This will inform whether the proportion of men who are against abortion is significantly greater than the proportion of women who are against abortion.\n",
    "\n",
    "The significance level of these findings will be presented alongside a stacked bar chart to display the proportions of anti-abortion individuals in the general public, divided into the two groups: men and women. With this, we will be able to compare the proportions of anti-abortion individuals along gender lines visually.\n",
    "\n",
    "**H3**\n",
    "\n",
    "To test H3, I will analyze the policymakers dataset to find the proportion of male legislators who take an anti-abortion stance and the proportion of female legislators who take an anti-abortion stance. This will estimate the proportion of men and women in lawmaking positions who are against abortion rights. These proportions will be compared using a Z-test to determine if there is a statistically significant difference between them. This will inform whether the proportion of male lawmakers who are against abortion is significantly greater than the proportion of female lawmakers who are against abortion.\n",
    "\n",
    "The significance level of these findings will be presented alongside a stacked bar chart to display the proportions of anti-abortion individuals in policymaking positions, divided into the two groups: men and women. With this, we will be able to compare the proportions of anti-abortion policymakers along gender lines visually."
   ]
  },
  {
   "cell_type": "code",
   "execution_count": null,
   "id": "36e00a18-3ab3-4dda-801a-46d3253eb841",
   "metadata": {},
   "outputs": [],
   "source": []
  }
 ],
 "metadata": {
  "kernelspec": {
   "display_name": "Python 3 (ipykernel)",
   "language": "python",
   "name": "python3"
  },
  "language_info": {
   "codemirror_mode": {
    "name": "ipython",
    "version": 3
   },
   "file_extension": ".py",
   "mimetype": "text/x-python",
   "name": "python",
   "nbconvert_exporter": "python",
   "pygments_lexer": "ipython3",
   "version": "3.9.7"
  }
 },
 "nbformat": 4,
 "nbformat_minor": 5
}
