{
 "cells": [
  {
   "cell_type": "markdown",
   "id": "5ed40cb6-9c16-4067-a085-919fc53d7ac2",
   "metadata": {
    "tags": []
   },
   "source": [
    "## Data Cleaning Script\n",
    "\n",
    "This python code opens the ABC News / Washington Post poll data file \"data.txt\", pulls out relevant variables for this project, then outputs a dataCleaned.txt file in csv format. Using the abcnum variable, the script also removes all entries for respondents who live outside of the 21 states included in the Anti-Abortion Policymaking and Women's Representation dataset. This is to keep the public opinion data from the same states as the policymakers' data.\n"
   ]
  },
  {
   "cell_type": "markdown",
   "id": "59c321f3-cbf5-4a5b-839b-c667d605ca47",
   "metadata": {},
   "source": [
    "### Variables in dataCleaned.txt\n",
    "\n",
    "These variables were pulled out of the data.txt file for analysis with the following script. Variables for political party and ideology were considered for data analysis, but ultimately not used. More information on all variables can be found in the 04326-Codebook.pdf file.\n",
    "\n",
    "``caseid`` : record identifier from original dataset\n",
    "\n",
    "``abcnum`` : abc state number\n",
    "\n",
    "``stcode`` : FIPS state number\n",
    "\n",
    "``Q21`` : Abortion opinion (1 = Always legal, 2 = Legal in most cases, 3 = Illegal in most cases, 4 = Illegal in all cases)\n",
    "\n",
    "``Q21NET`` : Abortion Legal/Illegal NET (1 = Legal, 2 = Illegal)\n",
    "\n",
    "``Q24`` : Political party aligning with values\n",
    "\n",
    "``Q901`` : Political party ID\n",
    "\n",
    "``Q908A`` : Ideology\n",
    "\n",
    "``Q921`` : Gender (1 - Male, 2 = Female)"
   ]
  },
  {
   "cell_type": "markdown",
   "id": "8aaae0d4-8eca-436d-896b-368b128f496a",
   "metadata": {
    "tags": []
   },
   "source": [
    "### Script Detials\n",
    "\n",
    "This script opens data.txt and goes through it line by line. On each line, it identifies the 'ABCNUM' variable with the ABC state code for the respondent's state. If the respondent is not from one of the 21 states included in the Anti-Abortion Policymaking and Women's Representation dataset of legislators, the script moves on to the next line of the file without recording the respondent's data. Otherwise, it will pull out the relevant values for the participant, separated with commas, and add them to the output string. The location of each variable in the original data.txt file is documented in the 04326-Codebook.pdf. After the script has looped through every line of data, the output string will be written to dataCleaned.txt."
   ]
  },
  {
   "cell_type": "code",
   "execution_count": 1,
   "id": "79b5d0c8-2c65-45db-abcc-e5bfd90ea077",
   "metadata": {
    "tags": []
   },
   "outputs": [],
   "source": [
    "#open data.txt file - entire dataset for the ABC News/Wash Post Poll\n",
    "f = open(\"data.txt\")\n",
    "\n",
    "#initialize output string with header row of variable names. Names are consistent with the codebook pdf\n",
    "outstr = \"caseid,abcnum,stcode,Q21,Q21NET,Q24,Q901,Q908A,Q921\\n\"\n",
    "\n",
    "#loop through each line in the original data.txt file\n",
    "for line in f:\n",
    "    \n",
    "    #if the respondent's home state is not in the whitelist of 21 states, skip this line \n",
    "    state = line[23:25].strip()\n",
    "    if not ( state == '4' or state == '3' or state == '5' or state == '6' or state == '10' or state == '14' or state == '19' \\\n",
    "       or state == '21' or state == '25' or state == '29' or state == '31' or state == '32' or state == '35' or state == '36' \\\n",
    "       or state == '39' or state == '41' or state == '43' or state == '44' or state == '45' or state == '48' or state == '50'):\n",
    "        continue\n",
    "    \n",
    "    #record the relevant variables, in order, separated by commas\n",
    "    lstr = line[0:4].strip() + ','\n",
    "    lstr = lstr + str.strip(line[23:25]) + ','\n",
    "    lstr = lstr + str.strip(line[25:27]) + ','\n",
    "    lstr = lstr + str.strip(line[143:145]) + ','\n",
    "    lstr = lstr + str.strip(line[145:153]) + ','\n",
    "    lstr = lstr + str.strip(line[167:169]) + ','\n",
    "    lstr = lstr + str.strip(line[285:287]) + ','\n",
    "    lstr = lstr + str.strip(line[287:289])+ ','\n",
    "    lstr = lstr + str.strip(line[329:331])\n",
    "    \n",
    "    #add the variables for this respondent to the output string as a new row of data\n",
    "    outstr = outstr + lstr + '\\n'\n",
    "\n",
    "#after looping through all rows of data, write the output string to dataCleaned.txt\n",
    "o = open(\"dataCleaned.txt\", \"w\")\n",
    "o.write(outstr)\n",
    "o.close()\n",
    "f.close()\n",
    "        \n",
    "        "
   ]
  }
 ],
 "metadata": {
  "kernelspec": {
   "display_name": "Python 3 (ipykernel)",
   "language": "python",
   "name": "python3"
  },
  "language_info": {
   "codemirror_mode": {
    "name": "ipython",
    "version": 3
   },
   "file_extension": ".py",
   "mimetype": "text/x-python",
   "name": "python",
   "nbconvert_exporter": "python",
   "pygments_lexer": "ipython3",
   "version": "3.9.7"
  }
 },
 "nbformat": 4,
 "nbformat_minor": 5
}
