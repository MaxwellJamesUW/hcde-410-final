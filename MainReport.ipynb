{
 "cells": [
  {
   "cell_type": "markdown",
   "id": "9c2039e4-bb40-4b7e-9725-260a8ebf5026",
   "metadata": {
    "tags": []
   },
   "source": [
    "# Gender Differences in Abortion Legality Opinion in Legislators and the Public\n",
    "## Abstract"
   ]
  },
  {
   "cell_type": "markdown",
   "id": "77dfacd6-decc-48e5-87c0-eccbc0d3f90a",
   "metadata": {},
   "source": [
    "This study investigates the effect of gender on opinion of abortion legality in legislators and the general public. Prior studies in the early 1990s have found no significant relationship between gender and abortion attitudes, and this study sets to discover if a relationship exists with more modern data from the mid 2000s. Attitudes of both the general public and legislators are examined to determine if legislators are representative of the public on this issue. Using data from a public poll by ABC News and the Washington Post, as well as data on legislators' abortion bill sponsorship in 21 states, the proportions of men and women who hold different stances on abortion were compared. While some nuance exists in different opinions, it was found that women generally supported abortion rights more often than men in both the public and policymaking positions. In addition, the proportion of legislators who supported anti-abortion as opposed to pro-abortion bills significantly exceeded the proportion of people in the public who held anti-abortion as opposed to pro-abortion beliefs. Implications of these findings on legislative representation and women's role in public policymaking are discussed."
   ]
  },
  {
   "cell_type": "markdown",
   "id": "1463d986-807f-4eb7-95ea-a96aff7845a0",
   "metadata": {},
   "source": [
    "## Introduction & Motivation"
   ]
  },
  {
   "cell_type": "markdown",
   "id": "196247e9-b20e-4840-aa18-e5342b4064da",
   "metadata": {},
   "source": [
    "Abortion has been a hot button issue in the United States for decades. In the historic Roe v. Wade case in 1973, the U.S. Supreme Court ruled that a woman's right to choose to have an abortion is protected by the Due Process Clause of the 14th Amdendment. In very recent news in May 2022, a draft of a Supreme Court opinion that would overturn the Roe v. Wade decision was leaked to the media. Some states have already criminalized abortion, and some policy makers are moving to criminalize abortion federally across the United States. This is a human rights issue, and specifically a women's rights issue of bodily autonomy. \n",
    "\n",
    "Through research, I hope to better understand individuals' perspectives on abortion in the United States and whether any differences exist along gender lines. I also hope to see if the actions of policy makers reflect the opinions of the general public. In addition, because abortion legislation affects women directly and men indirectly, and men outnumber women in policy-making positions, I'm interested to see the gender distribution of anti-abortion legislators. I hope to determine whether policy makers are adequately representing the wishes of the general public on the issue of abortion. This research aims to determine whether our democracy is truly representative on this issue, and whether differences in opinion along gender lines play a role in related legislation.\n",
    "\n",
    "When I presenting my intial ideas about this research topic to my peers, they encouraged me to look closely at those with the power to make policy decisions and their gender distribution."
   ]
  },
  {
   "cell_type": "markdown",
   "id": "df72301e-6f71-4cb4-aae5-aac508f65f90",
   "metadata": {
    "tags": []
   },
   "source": [
    "## Related Work"
   ]
  },
  {
   "cell_type": "markdown",
   "id": "dead50f5-8571-4418-aa7a-7e30b3e0ba6b",
   "metadata": {},
   "source": [
    "**Examining the Absence of a Gender Effect on Abortion Attitudes: Is There Really No Difference?** by Hertel and Russell\n",
    "\n",
    "ABSTRACT:\n",
    "\n",
    ">Earlier research on attitudes toward abortion has found little or no difference between men and women. To the limited extent that there is any gender effect, men are slightly more inclined than women to be prochoice (e.g., Cook, Jelen, and Wilcox 1992). Women, however, have been found to regard the issue as more important (Scott and Schuman 1988). The present study uses General Social Survey data from 1972 through 1994 to further explore gender and attitudes toward abortion. We find that within three marital statuses–single, married, widowed–men are somewhat more supportive of abortion rights but that women consider the issue to be more important and have clearer but not necessarily stronger attitudes than men. When differences in workforce participation are controlled, the sex effect is reversed, with women being more prochoice than men. Although significantly related to abortion attitudes, race, marital status, and religious identity are not relevant to this reversal in the sex effect.\n",
    "\n",
    "UW Library Access: https://alliance-primo.hosted.exlibrisgroup.com/primo-explore/fulldisplay?docid=TN_cdi_proquest_miscellaneous_61614891&context=PC&vid=UW&lang=en_US&search_scope=all&adaptor=primo_central_multiple_fe&tab=default_tab&query=any,contains,Cook%20%20Jelen%20%20and%20Wilcox%201992\n",
    "\n",
    "This article includes a literature review establishing that previous research indicates there is no significant effect of gender on abortion attitudes. Based on General Social Survey data from 1972 to 1994, there is practically no relationship between gender and abortion attitudes.\n",
    "\n",
    "I believe there is still value in checking for an effect of gender on abortion attitudes with more recent data, and my selected dataset for this topic is over ten years newer than the data used by Hertel and Russel. As such, I will continue with my analysis of abortion sentiment along gender lines.\n",
    "\n",
    "**Between two absolutes: Public opinion and the politics of abortion** by Cook et al.\n",
    "\n",
    "UW Library Access: https://alliance-primo.hosted.exlibrisgroup.com/primo-explore/fulldisplay?docid=TN_cdi_proquest_miscellaneous_59619250&context=PC&vid=UW&lang=en_US&search_scope=all&adaptor=primo_central_multiple_fe&tab=default_tab&query=any,contains,Cook%20%20Jelen%20%20and%20Wilcox%201992\n",
    "\n",
    "This book includes an analysis of General Social Survey data through 1991, also reporting that virtually no relationship exists between gender and abortion attitudes. They find that if a limited effect does exist, women are actually slightly less supportive of legal abortion than men (p. 44).\n",
    "\n",
    "My hypotheses were originally that men would be significantly more likely to oppose abortion rights than women, whether members of the legislature or general public. I reasoned that since abortion rights are a matter of women's bodily autonomy, more women would support their right to choose, whereas men may have an easier time opposing abortion on philosophical grounds as it doesn't directly affect their rights. Given the results from this study, I changed my hypotheses to see if a significant difference exists along gender lines in either direction. The data used in the Cook et al. study is now over thirty years old, so I believe it is still valuable to test these hypotheses with more modern data. Any existing differences will suggest a change in the gender effects on abortion sentiment from 1991 to the 2000s."
   ]
  },
  {
   "cell_type": "markdown",
   "id": "966d93c0-0a13-4e32-b16a-73f23147baf6",
   "metadata": {
    "tags": []
   },
   "source": [
    "## Data"
   ]
  },
  {
   "cell_type": "markdown",
   "id": "cc8db358-bf4c-48b8-8765-eac36f9f86b3",
   "metadata": {},
   "source": [
    "**Anti-Abortion Policymaking and Women's Representation**\n",
    "https://dataverse.harvard.edu/dataset.xhtml?persistentId=doi:10.7910/DVN/TQXAOU\n",
    "\n",
    "This dataset includes data for legislators in 21 state houses from 1997-2012. Legislators' gender, party, ideology, state-level party competition, and abortion bill sponsorship are included.\n",
    "\n",
    "States included: Arkansas, Arizona, California, Colorado, Florida, Illinois, Louisiana, Maryland, Mississippi, Nevada, New Jersey (1996-2013), New Mexico, North Dakota, Ohio, Pennsylvania, South Carolina, Tennessee, Texas, Utah, Washington, and Wisconsin\n",
    "\n",
    "This data will enable the analysis of these legislators' voting habits on abortion bills related to their gender and other factors. From this, I can estimate the gender distribution of anti-abortion policy makers.\n",
    "\n",
    "The dataset is public domain, allowing anyone to copy, modify, distribute, and perform work on it without permission: https://creativecommons.org/publicdomain/zero/1.0/\n",
    "\n",
    "Because legislative decisions are a matter of public record, using this data should be ethical.\n",
    "\n",
    "Beth Reingold, Rebecca Kreitzer, Tracy Osborn, Michele Swers, 2020, \"Replication Data for: Anti-abortion Policymaking and Women's Representation\", https://doi.org/10.7910/DVN/TQXAOU, Harvard Dataverse, V1, UNF:6:zgqJ10J0I/h2ZrIhvqGCsQ== [fileUNF]\n",
    "\n",
    "This data and its analysis can be viewed in the Policymakers.xlsx file."
   ]
  },
  {
   "cell_type": "markdown",
   "id": "7a6c6e6e-354a-4b3f-adb9-1c172f4d0b8a",
   "metadata": {},
   "source": [
    "**ABC News / Washington Post Poll, 2005**\n",
    "https://www.icpsr.umich.edu/web/ICPSR/studies/4326\n",
    "\n",
    "This dataset includes responses from a random sample of 1082 adults in the general public. Respondents were asked their opinions on abortion legality and other issues, as well as basic demographic variables including gender.\n",
    "\n",
    "This data will enable an estimation of the general public's opinions on abortion, and whether any differences exist along gender lines. Connecting this to the dataset about policy makers may reveal whether legislators' actions reflect the public's wishes.\n",
    "\n",
    "The dataset can be redistributed by authorized users, which includes students at member institutions. Because UW is an ICPSR member, I am allowed to use and share this dataset in this project.\n",
    "\n",
    "Data is anonymous to ensure privacy of respondents for ethical reasons.\n",
    "\n",
    "ABC News, and The Washington Post. ABC News/Washington Post Monthly Poll, April 2005. 2006-12-11. https://doi.org/10.3886/ICPSR04326.v1\n",
    "\n",
    "This data and its analysis can be viewed in the ABCWashPoll.xlsx file."
   ]
  },
  {
   "cell_type": "markdown",
   "id": "92e37e7a-ac43-4aff-a643-9e1f7d7bf8d8",
   "metadata": {
    "tags": []
   },
   "source": [
    "### Dataset Limitations"
   ]
  },
  {
   "cell_type": "markdown",
   "id": "ace0a398-4fb0-4b1c-9e85-eae9f1899b46",
   "metadata": {},
   "source": [
    "These available datasets are over ten years old; one includes data from 2005 and the other includes data from 1997-2012. These may not reflect modern opinions on abortion if there has been a dramatic change in the past years.\n",
    "\n",
    "The public poll dataset is also biased towards the audience of ABC News and the Washington Post. Audience members of these news sources are most likely to be included as poll respondents, and while these publications are typically viewed as moderate and centrist, the respondents may not fully represent the greater public.\n",
    "\n",
    "The collection of legislators' bill support only includes data from 21 states, so it may not be representative of legislators from all of the United States."
   ]
  },
  {
   "cell_type": "markdown",
   "id": "406b8fa8-bd2e-4ac5-9b0d-f24f7278b986",
   "metadata": {
    "tags": []
   },
   "source": [
    "## Research Questions"
   ]
  },
  {
   "cell_type": "markdown",
   "id": "cf9e3984-5bd7-4398-8e6b-0355a894c226",
   "metadata": {
    "tags": []
   },
   "source": [
    "#### **Research Question 1**\n",
    "\n",
    "Does the proportion of lawmakers who take an anti-abortion rights stance significantly differ from that proportion of people in the general public?\n",
    "\n",
    "**Hypothesis 1 (H1)**\n",
    "\n",
    "The proportion of anti-abortion lawmakers is significantly different than the proportion of people in the general public who take an anti-abortion stance.\n",
    "\n",
    "#### **Research Question 2**\n",
    "\n",
    "In the general public, do men and women hold opinions on abortion rights in different proportions? That is, does the percentage of all men who hold a particular stance on abortion legality differ from the percentage of all women who hold that stance?\n",
    "\n",
    "**Hypotheses for RQ2 (H2)**\n",
    "\n",
    "Hypothesis 2.1:\n",
    "\n",
    "In the general public, the proportion of men who believe abortion should always be legal is significantly different than that proportion of women.\n",
    "\n",
    "Hypothesis 2.2:\n",
    "\n",
    "In the general public, the proportion of men who believe abortion should be legal most but not all of the time is significantly different than that proportion of women.\n",
    "\n",
    "Hypothesis 2.3:\n",
    "\n",
    "In the general public, the proportion of men who believe abortion should be illegal most but not all of the time is significantly different than that proportion of women.\n",
    "\n",
    "Hypothesis 2.4:\n",
    "\n",
    "In the general public, the proportion of men who believe abortion should always be illegal is significantly different than that proportion of women.\n",
    "\n",
    "\n",
    "#### **Research Question 3**\n",
    "\n",
    "Do men and women in lawmaking positions hold stances on abortion in different proportions?\n",
    "\n",
    "**Hypotheses for RQ3 (H3)**\n",
    "\n",
    "Hypothesis 3.1:\n",
    "\n",
    "The proportion of male lawmakers who take an anti-abortion rights stance is significantly different than that proportion of female lawmakers.\n",
    "\n",
    "Hypothesis 3.2:\n",
    "\n",
    "The proportion of male lawmakers who take a pro-abortion rights stance is significantly different than that proportion of female lawmakers."
   ]
  },
  {
   "cell_type": "markdown",
   "id": "f4fbb25b-7c5a-4331-99f8-11e0bf4a8b1c",
   "metadata": {
    "tags": []
   },
   "source": [
    "## Methodology"
   ]
  },
  {
   "cell_type": "markdown",
   "id": "ef74784d-c878-45f5-9bc4-85195c271d5a",
   "metadata": {},
   "source": [
    "To eliminate any differences caused by the fact that the legislators' dataset only contains data from 21 states, the public poll data will be filtered to include only respondents from those same 21 states. The public poll data also needs to be converted to a comma separated values format for analysis in a spreadsheet program. The public poll data filtering files can be found in the ABCWashPostPollFiltering subdirectory, with the details and script itself in the PollDataCleaner.ipynb file. This filtering was completed before any other analysis with this dataset.\n",
    "\n",
    "**H1**\n",
    "\n",
    "To test H1, I will find the proportion of people in the public poll dataset who take an anti-abortion stance, defined as agreement with the options: \"Abortion should always be illegal,\" or \"Abortion should be illegal in most cases.\" This will be used to estimate the proportion of individuals in the general public who take an anti-abortion stance. Then, I will find the proportion of legislators who supported at least one anti-abortion bill as opposed to at least one pro-abortion bill. Many legislators did not support either kind of bill, so these individuals without a stance on abortion will be excluded from this part of the analysis. The proportion of anti-abortion legislators will be compared to the proportion of anti-abortion members of the public using a z-test. This will reveal if there is a significant difference between the proportion of anti-abortion lawmakers and anti-abortion members of the public.\n",
    "\n",
    "**H2**\n",
    "\n",
    "To test H2.1, H2.2, H2.3, and H2.4, I will analyze the public poll dataset to find the proportion of men and the proportion of women who take the following stances on abortion: \"It should always be legal (2.1),\" \"It should be legal in most cases (2.2),\" \"It should be illegal in most cases (2.3),\" and \"It should always be illegal (2.4).\" For each stance, the proportion of men and the proportion of women will be compared with a two proportion z-test. This will reveal whether differences exist in the proportion of men and women who agree with each stance on abortion legality.\n",
    "\n",
    "The significance level of these findings will be presented alongside a bar chart to display the proportions of men and women who hold each abortion stance. With this, we will be able to compare the frequency of abortion rights stances along gender lines visually.\n",
    "\n",
    "**H3**\n",
    "\n",
    "To test H3, I will analyze the policymakers dataset to find the proportion of male legislators and female legislators who supported an anti-abortion rights bill (3.1) as well as those who supported a pro-abortion rights bill (3.2). This will estimate the proportion of male and female legislators who oppose abortion rights and support abortion rights. For each stance, the proportion of men and women will be compared using a Z-test to determine if there is a statistically significant difference between them. This will inform whether differences exist in the proportions of male and female legislators who take each stance on abortion legality.\n",
    "\n",
    "The significance level of these findings will be presented alongside a bar chart to display the proportions of each abortion stance, divided into the two groups: male and female legislators. With this, we will be able to compare the proportions of anti-abortion and pro-abortion policymakers along gender lines visually."
   ]
  },
  {
   "cell_type": "markdown",
   "id": "8717b675-eaee-4026-8c22-04da50eb1aa7",
   "metadata": {
    "tags": []
   },
   "source": [
    "## Findings"
   ]
  },
  {
   "cell_type": "markdown",
   "id": "8b109c5c-d559-4ae1-9d3c-682fe8c54103",
   "metadata": {
    "tags": []
   },
   "source": [
    "#### H1\n",
    "Of the 577 respondents to the ABC News / Washington Post public opinion poll, 39.9% agreed that abortion should be illegal in most or all cases. Of the 563 policy makers who supported a bill related to abortion rights, 87.4% were in support of an anti-abortion bill to reduce rights and access to abortion as opposed to a bill to expand rights. The proportion of anti-abortion members of the public was significantly less than the proportion of legislators who supported anti-abortion as opposed to pro-abortion bills (p < 0.01). H1 was supported.\n",
    "\n",
    "#### H2\n",
    "Respondents of the public opinion poll include 273 women and 304 men.\n",
    "\n",
    "![Public Opinion Poll on Abortion Legality](PublicPoll.png)\n",
    "\n",
    "**H2.1: Always Legal**\n",
    "\n",
    "27.5% of the female respondents and 16.4% of the male respondents agreed that abortion should always be legal. The difference is significant (p < 0.01), with women being more likely to believe in legal abortion in all cases. H2.1 was supported.\n",
    "\n",
    "**H2.2: Legal in Most Cases**\n",
    "\n",
    "38.5% of both male and female respondents agreed that abortion should be legal in most (but not all) cases. The difference is insignificant, so the same proportion of men and women share this stance on abortion legality. H2.2 was rejected.\n",
    "\n",
    "**H2.3: Illegal in Most Cases**\n",
    "\n",
    "20.9% of female respondents and 31.3% of male respondents agreed that abortion should be illegal in most cases. The difference is significant (p < 0.01), with men more likely to believe that abortion should be illegal in most cases. H2.3 was supported.\n",
    "\n",
    "**H2.4: Always Illegal**\n",
    "\n",
    "13.2% of female respondents and 13.8% of male respondents agreed that abortion should always be illegal. The difference is insignificant, so the same proportion of men and women share this stance on abortion legality. H2.4 was rejected.\n",
    "\n",
    "#### H3\n",
    "\n",
    "The dataset for policymakers across 21 states includes 1321 female legislators and 4286 male legislators.\n",
    "\n",
    "![Legislators' Abortion Bill Support](LegislatorBillSupport.png)\n",
    "\n",
    "**H3.1 Anti-Abortion Bill Support**\n",
    "\n",
    "Of the 1321 female legislators, 8.9% supported an anti-abortion rights bill. Of the 4286 male legislators, 8.7% supported an anti-abortion rights bill. The difference is insignificant, so the same proportion of male and female legislators supported an anti-abortion stance. H3.1 was rejected.\n",
    "\n",
    "**H3.2 Pro-Abortion Bill Support**\n",
    "\n",
    "Of all female legislators, 2.7% supported a pro-abortion rights bill. Of all male legislators, only 0.8% supported a pro-abortion rights bill. The difference is significant (p < 0.01), with female legislators supporting pro-abortion bills more than male legislators. H3.2 was supported."
   ]
  },
  {
   "cell_type": "markdown",
   "id": "ca1bc268-0f1a-476b-a431-38594387e9af",
   "metadata": {},
   "source": [
    "## Discussion"
   ]
  },
  {
   "cell_type": "markdown",
   "id": "1959e392-bb9b-4f75-9337-eb02fc7bf371",
   "metadata": {
    "jp-MarkdownHeadingCollapsed": true,
    "tags": []
   },
   "source": [
    "#### H1\n",
    "\n",
    "The proportion of respondents to the public poll dataset who supported an anti-abortion stance was significantly less than the proportion of legislators who supported anti-abortion as opposed to pro-abortion bills. This suggests that policymakers do not represent the public's wishes well on the issue of abortion rights, instead taking more of an anti-abortion stance than the general population.\n",
    "\n",
    "However, this analysis only included legislators who supported either a pro-abortion bill or an anti-abortion bill. Many legislators did not support either kind of bill, and were excluded from analysis. Some of the legislators excluded may take stances on abortion, but did not support particular bills for different reasons. Others may hold a generally pro-abortion stance, but not support specifc pro-abortion bills because they believe abortion access is adequately assured by the Roe v. Wade precedent. It would be reasonable that legislators who disagree with Roe v. Wade and abortion rights would attempt to pass bills to limit abortion access, while supporters of Roe v. Wade may be satisfied with the current state of abortion rights in this country. Though H1 was supported and this finding was signficant, these limitations may decrease its validity. More research could be done to poll legislators for their abortion opinions, rather than using bill sponsorship as a proxy for abortion stance.\n",
    "\n",
    "#### H2\n",
    "\n",
    "Male and female respondents to the public opinion poll agreed with the statements, \"Abortion should be legal in most cases,\" and, \"Abortion should always be illegal,\" in essentially the same proportions. Therefore, the proportion of men and women who are staunchly against abortion rights is equal, and the proportion of men and women who are generally in support of abortion rights is equal. However, women were more likely than men to support abortion legality for any reason. Also, men were more likely than women to say abortion should be illegal in most cases. Though some nuance exists in these findings, it is reasonable to conclude that women are more likely to support legal abortion than men. The implication of this on public policy is that, if more women held policymaking positions, there may be more support for pro-abortion legislation. This implication is further supported by the other significant finding in H3.\n",
    "\n",
    "As stated in the 'Data Limitations' section above, this dataset is biased towards the political views of ABC News and the Washington Post's audience. To increase the validity of these findings, bigger public polls from a greater variety of sources could be included in analysis to better estimate the views of the general public.\n",
    "\n",
    "#### H3\n",
    "\n",
    "Though male and female legislators supported anti-abortion rights bills in essentially equal proportions, female legislators were more likely to support pro-abortion rights bills than male legislators. This, coupled with the significant findings of H2.1 and H2.3, suggests that if more women held policymaking positions, it may lead to more governmental support for pro-abortion bills. Because H1 demonstrated that a much greater proportion of policymakers support anti-abortion rights bills than the general public, having more individuals with a pro-abortion rights stance in policymaking positions could better represent the public's stance on this issue. These findings therefore imply that having more women in policymaking positions could make legislators as a whole more representative of the public on the issue of abortion.\n",
    "\n",
    "As mentioned in the 'Data Limitations' section above, these findings are derived from data on only 21 U.S. states. It's possible this data is not representative of the entire United States, and more research could improve the validity of these findings with more data on legislators from all over the United States.\n",
    "\n",
    "Another limitation of this analysis is the exclusion of political party from the analysis. Existing political parties take different stances on abortion, with conservative Republicans typically holding an anti-abortion rights stance and liberal Democrats typically holding a pro-abortion rights stance. The effect of more female legislators supporting pro-abortion bills may be because more female legislators are members of the democratic party. Analysis of political party was outside of the scope of this project, but further research could take it into account to present a clearer picture of abortion sentiment among legislators."
   ]
  },
  {
   "cell_type": "markdown",
   "id": "b48063cc-e94b-4137-b063-d96a8a613bc8",
   "metadata": {
    "tags": []
   },
   "source": [
    "## Conclusion"
   ]
  },
  {
   "cell_type": "markdown",
   "id": "58299683-f086-4ba3-9685-8861c87ecb51",
   "metadata": {},
   "source": [
    "This research set out to discover if legislators oppose abortion rights in a greater proportion than the general public, and whether differences in opinion on abortion legality exist along gender lines for both legislators and the general public. It was found that the proportion of legislators who supported anti-abortion bills as opposed to pro-abortion bills was significantly greater than the proportion of public poll respondents who thought abortion should be illegal most or all of the time. It was then found that an equal proportion of men and women in the public believe abortion should be legal most of the time and illegal all of the time. However, a significantly greater proportion of women agreed abortion should be legal in all cases, and a significantly greater proportion of men agreed abortion should be illegal in most cases. The final finding was that, while male and female legislators support anti-abortion bills in equal proportions, a significantly greater proportion of female legislators supported pro-abortion rights bills. These findings suggest that women are more likely to support abortion rights whether they are legislators or members of the general public. As such, the pro-abortion rights sentiment of the general public may be better represented in the government if more legislators were women."
   ]
  }
 ],
 "metadata": {
  "kernelspec": {
   "display_name": "Python 3 (ipykernel)",
   "language": "python",
   "name": "python3"
  },
  "language_info": {
   "codemirror_mode": {
    "name": "ipython",
    "version": 3
   },
   "file_extension": ".py",
   "mimetype": "text/x-python",
   "name": "python",
   "nbconvert_exporter": "python",
   "pygments_lexer": "ipython3",
   "version": "3.9.7"
  }
 },
 "nbformat": 4,
 "nbformat_minor": 5
}
